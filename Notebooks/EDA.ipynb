### TRIPLE TEN - SPRINT 4 - PROJECT

In order to begin, I will need to perform some EDA to clean up our starting data. My plan for EDA is outlined in my README.txt file. I will summarize again here. Intitially will focus on missing values, then look at data types.

-  Price: Replace with average for the same model and year.
-  Odometer: Replace with median for the same model and model year.
-  Model Year: Infer from model, but to do automatically we will use median based on model.

<b>The next three are not as important. Will assess how many rows have missing data from this point, if it a low number, will remove.<b>

-  Paint Color
-  Is 4WD
-  Date Fields: date posted and days listed - still interesting data points though. Could use.
